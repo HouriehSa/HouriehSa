{
  "nbformat": 4,
  "nbformat_minor": 0,
  "metadata": {
    "colab": {
      "provenance": [],
      "authorship_tag": "ABX9TyMLRfLHS19aDs3JN+x+DVes",
      "include_colab_link": true
    },
    "kernelspec": {
      "name": "python3",
      "display_name": "Python 3"
    },
    "language_info": {
      "name": "python"
    }
  },
  "cells": [
    {
      "cell_type": "markdown",
      "metadata": {
        "id": "view-in-github",
        "colab_type": "text"
      },
      "source": [
        "<a href=\"https://colab.research.google.com/github/HouriehSa/HouriehSa/blob/main/GaussianClassifier.ipynb\" target=\"_parent\"><img src=\"https://colab.research.google.com/assets/colab-badge.svg\" alt=\"Open In Colab\"/></a>"
      ]
    },
    {
      "cell_type": "code",
      "source": [
        "import numpy as np\n",
        "import matplotlib.pyplot as plt\n",
        "from sklearn.model_selection import train_test_split\n",
        "from sklearn.metrics import confusion_matrix"
      ],
      "metadata": {
        "id": "f-XWiPcNBbFF"
      },
      "execution_count": 75,
      "outputs": []
    },
    {
      "cell_type": "code",
      "execution_count": 127,
      "metadata": {
        "id": "FVMhM9o9EgI_"
      },
      "outputs": [],
      "source": [
        "class GaussianClassifier(object):\n",
        "  def __init__(self):\n",
        "    pass\n",
        "\n",
        "  def prior_probability(self,y):\n",
        "    assert all(label in [0,1] for label in y)\n",
        "    assert len(y>0)\n",
        "    label_0=0\n",
        "    label_1=0\n",
        "    total_number=len(y)\n",
        "    for label in y:\n",
        "      if label==1:\n",
        "        label_0+=1\n",
        "      else:\n",
        "        label_1+=1\n",
        "    prior_label_0=label_0/total_number\n",
        "    prior_label_1=label_1/total_number\n",
        "    return prior_label_0,prior_label_1\n",
        "  def fit(self,x,y):\n",
        "    x_0=x[y==0]\n",
        "    x_1=x[y==1]\n",
        "    mu_x0=np.mean(x_0)\n",
        "    mu_x1=np.mean(x_1)\n",
        "    variance_x0=np.var(x_0)\n",
        "    variance_x1=np.var(x_1)\n",
        "    y_0=(1/np.sqrt(2*np.pi*variance_x0))*np.exp(-0.5*np.power((x-mu_x0)/np.sqrt(variance_x0),2))*self.prior_probability(y)[0]\n",
        "    y_1=(1/np.sqrt(2*np.pi*variance_x1))*np.exp(-0.5*np.power((x-mu_x1)/np.sqrt(variance_x1),2))*self.prior_probability(y)[1]\n",
        "    return y_0,y_1\n",
        "  def predict(self,x):\n",
        "    y_0, y_1 = self.fit(x,y)\n",
        "    if y_1.any() > y_0.any():\n",
        "      print(f\"The entered data is classified in class {1}\")\n",
        "    else:\n",
        "      print(f\"The entered data is classified in class {0}\")\n",
        "  def confusion_matrix(self,y):\n",
        "    y_0, y_1 = self.fit(x, y)\n",
        "    y_pred = self.fit(x, y)\n",
        "    return confusion_matrix( y_pred, labels=[1, 0])\n",
        "\n"
      ]
    },
    {
      "cell_type": "code",
      "source": [
        "N=(1000,1)\n",
        "x_0=np.random.normal(32.5,4,N)\n",
        "x_1=np.random.normal(52.5,4,N)\n",
        "x=np.vstack((x_0,x_1))\n",
        "y=np.hstack((np.zeros(1000),np.ones(1000)))\n"
      ],
      "metadata": {
        "id": "uFdvOq9-BRC_"
      },
      "execution_count": 128,
      "outputs": []
    },
    {
      "cell_type": "code",
      "source": [
        "binary_classifier=GaussianClassifier()"
      ],
      "metadata": {
        "id": "cau0VCgQKcHl"
      },
      "execution_count": 129,
      "outputs": []
    },
    {
      "cell_type": "code",
      "source": [
        "binary_classifier.fit(x,y)"
      ],
      "metadata": {
        "colab": {
          "base_uri": "https://localhost:8080/"
        },
        "id": "pcRWPgMHGn1B",
        "outputId": "8758690d-5844-4ef0-f790-95eb26464bfb"
      },
      "execution_count": 130,
      "outputs": [
        {
          "output_type": "execute_result",
          "data": {
            "text/plain": [
              "(array([[4.75210504e-02],\n",
              "        [4.14821989e-02],\n",
              "        [4.76640150e-02],\n",
              "        ...,\n",
              "        [1.29220895e-08],\n",
              "        [5.34167505e-07],\n",
              "        [3.84525405e-10]]),\n",
              " array([[9.79758146e-08],\n",
              "        [2.62860426e-09],\n",
              "        [5.37110350e-08],\n",
              "        ...,\n",
              "        [3.89790336e-02],\n",
              "        [5.17946397e-02],\n",
              "        [1.90940922e-02]]))"
            ]
          },
          "metadata": {},
          "execution_count": 130
        }
      ]
    },
    {
      "cell_type": "code",
      "source": [
        "binary_classifier.predict(x)"
      ],
      "metadata": {
        "colab": {
          "base_uri": "https://localhost:8080/"
        },
        "id": "f8-LvIyZGu0Q",
        "outputId": "45a37664-349b-439f-9bd6-80651a4decae"
      },
      "execution_count": 131,
      "outputs": [
        {
          "output_type": "stream",
          "name": "stdout",
          "text": [
            "The entered data is classified in class 0\n"
          ]
        }
      ]
    },
    {
      "cell_type": "code",
      "source": [
        "binary_classifier.confusion_matrix(y)"
      ],
      "metadata": {
        "colab": {
          "base_uri": "https://localhost:8080/",
          "height": 275
        },
        "id": "U652MpnrHdLg",
        "outputId": "97023363-8410-426d-f24a-b6b7368764b7"
      },
      "execution_count": 132,
      "outputs": [
        {
          "output_type": "error",
          "ename": "TypeError",
          "evalue": "ignored",
          "traceback": [
            "\u001b[0;31m---------------------------------------------------------------------------\u001b[0m",
            "\u001b[0;31mTypeError\u001b[0m                                 Traceback (most recent call last)",
            "\u001b[0;32m<ipython-input-132-93cd7ef7586b>\u001b[0m in \u001b[0;36m<cell line: 1>\u001b[0;34m()\u001b[0m\n\u001b[0;32m----> 1\u001b[0;31m \u001b[0mbinary_classifier\u001b[0m\u001b[0;34m.\u001b[0m\u001b[0mconfusion_matrix\u001b[0m\u001b[0;34m(\u001b[0m\u001b[0my\u001b[0m\u001b[0;34m)\u001b[0m\u001b[0;34m\u001b[0m\u001b[0;34m\u001b[0m\u001b[0m\n\u001b[0m",
            "\u001b[0;32m<ipython-input-127-e1103e1bb58d>\u001b[0m in \u001b[0;36mconfusion_matrix\u001b[0;34m(self, y)\u001b[0m\n\u001b[1;32m     36\u001b[0m     \u001b[0my_0\u001b[0m\u001b[0;34m,\u001b[0m \u001b[0my_1\u001b[0m \u001b[0;34m=\u001b[0m \u001b[0mself\u001b[0m\u001b[0;34m.\u001b[0m\u001b[0mfit\u001b[0m\u001b[0;34m(\u001b[0m\u001b[0mx\u001b[0m\u001b[0;34m,\u001b[0m \u001b[0my\u001b[0m\u001b[0;34m)\u001b[0m\u001b[0;34m\u001b[0m\u001b[0;34m\u001b[0m\u001b[0m\n\u001b[1;32m     37\u001b[0m     \u001b[0my_pred\u001b[0m \u001b[0;34m=\u001b[0m \u001b[0mself\u001b[0m\u001b[0;34m.\u001b[0m\u001b[0mfit\u001b[0m\u001b[0;34m(\u001b[0m\u001b[0mx\u001b[0m\u001b[0;34m,\u001b[0m \u001b[0my\u001b[0m\u001b[0;34m)\u001b[0m\u001b[0;34m\u001b[0m\u001b[0;34m\u001b[0m\u001b[0m\n\u001b[0;32m---> 38\u001b[0;31m     \u001b[0;32mreturn\u001b[0m \u001b[0mconfusion_matrix\u001b[0m\u001b[0;34m(\u001b[0m \u001b[0my_pred\u001b[0m\u001b[0;34m,\u001b[0m \u001b[0mlabels\u001b[0m\u001b[0;34m=\u001b[0m\u001b[0;34m[\u001b[0m\u001b[0;36m1\u001b[0m\u001b[0;34m,\u001b[0m \u001b[0;36m0\u001b[0m\u001b[0;34m]\u001b[0m\u001b[0;34m)\u001b[0m\u001b[0;34m\u001b[0m\u001b[0;34m\u001b[0m\u001b[0m\n\u001b[0m\u001b[1;32m     39\u001b[0m \u001b[0;34m\u001b[0m\u001b[0m\n",
            "\u001b[0;31mTypeError\u001b[0m: confusion_matrix() missing 1 required positional argument: 'y_pred'"
          ]
        }
      ]
    },
    {
      "cell_type": "code",
      "source": [],
      "metadata": {
        "id": "uBMK-EcnOf_s"
      },
      "execution_count": 132,
      "outputs": []
    }
  ]
}